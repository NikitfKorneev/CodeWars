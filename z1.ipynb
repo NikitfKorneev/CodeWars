{
 "cells": [
  {
   "cell_type": "code",
   "execution_count": 42,
   "metadata": {},
   "outputs": [
    {
     "data": {
      "text/plain": [
       "False"
      ]
     },
     "execution_count": 42,
     "metadata": {},
     "output_type": "execute_result"
    }
   ],
   "source": [
    "'''Банкоматы позволяют использовать 4- или 6-значные PIN-коды, а PIN-коды не могут содержать ничего, кроме ровно 4 или ровно 6 цифр.\n",
    "\n",
    "Если функции передана допустимая строка PIN-кода, верните true, иначе верните false.\n",
    "\n",
    "Примеры ( Ввод --> Вывод)\n",
    "\"1234\"   -->  true\n",
    "\"12345\"  -->  false\n",
    "\"a234\"   -->  false\n",
    "'''\n",
    "pin = \"1\"\n",
    "def validate_pin(pin):\n",
    "    if pin.isdigit() != False:\n",
    "        if len(pin) == 6 or len(pin) == 4:\n",
    "            return (True)\n",
    "        else:\n",
    "            return (False)\n",
    "    else:\n",
    "        return (False)\n",
    "validate_pin(pin)"
   ]
  }
 ],
 "metadata": {
  "kernelspec": {
   "display_name": "Python 3",
   "language": "python",
   "name": "python3"
  },
  "language_info": {
   "codemirror_mode": {
    "name": "ipython",
    "version": 3
   },
   "file_extension": ".py",
   "mimetype": "text/x-python",
   "name": "python",
   "nbconvert_exporter": "python",
   "pygments_lexer": "ipython3",
   "version": "3.11.3"
  },
  "orig_nbformat": 4
 },
 "nbformat": 4,
 "nbformat_minor": 2
}
